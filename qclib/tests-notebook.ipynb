{
 "cells": [
  {
   "cell_type": "code",
   "execution_count": 1,
   "id": "f34b3747",
   "metadata": {},
   "outputs": [],
   "source": [
    "\n",
    "from math import ceil, log2\n",
    "import numpy as np\n",
    "import scipy as sp\n",
    "from qiskit import QuantumCircuit, QuantumRegister\n",
    "from qiskit import transpile\n",
    "from qiskit.circuit.library import RYGate, CZGate, MCMT\n",
    "from qiskit.extensions import UnitaryGate, UCRYGate, UCRZGate\n",
    "from qiskit.quantum_info.operators.predicates import is_unitary_matrix\n",
    "from qiskit.quantum_info.synthesis import two_qubit_decompose\n",
    "from qiskit.quantum_info import Operator\n",
    "from qclib.gates.ucr import ucr\n",
    "from qclib.gates.uc_gate import UCGate\n",
    "from qclib.decompose2q import TwoQubitDecomposeUpToDiagonal\n",
    "from unitary import _get_row_col, _build_qr_circuit\n"
   ]
  },
  {
   "cell_type": "code",
   "execution_count": 6,
   "id": "20823db1",
   "metadata": {},
   "outputs": [
    {
     "name": "stdout",
     "output_type": "stream",
     "text": [
      "5 1\n",
      "[1, 0, 1]\n",
      "[1, 0, 0]\n",
      "[0. 0. 1.]\n",
      "1\n",
      "qubits final\n",
      "[1, 0, 1]\n",
      "[1, 0, 0]\n",
      "[0, 1, 2]\n"
     ]
    },
    {
     "data": {
      "image/png": "[encoded data removed]",
      "text/plain": [
       "<Figure size 366.63x204.68 with 1 Axes>"
      ]
     },
     "execution_count": 6,
     "metadata": {},
     "output_type": "execute_result"
    }
   ],
   "source": [
    "\n",
    "#test_row_col()\n",
    "nq=3\n",
    "a = 0.8\n",
    "b = 0.6\n",
    "Q1 = [[1,0,0,0,0,0,0,0],\n",
    "         [0,a,0,0,0,b,0,0],\n",
    "         [0,0,1,0,0,0,0,0],\n",
    "         [0,0,0,1,0,0,0,0],\n",
    "         [0,0,0,0,1,0,0,0],\n",
    "         [0,b,0,0,0,-a,0,0],\n",
    "         [0,0,0,0,0,0,1,0],\n",
    "         [0,0,0,0,0,0,0,1]]\n",
    "\n",
    "gate_sequence = [Q1]\n",
    "circuit = _build_qr_circuit(gate_sequence, nq)\n",
    "circuit.decompose().draw('mpl')"
   ]
  },
  {
   "cell_type": "code",
   "execution_count": 3,
   "id": "8a3a2582",
   "metadata": {},
   "outputs": [
    {
     "name": "stdout",
     "output_type": "stream",
     "text": [
      "4 1\n",
      "[0, 0, 1]\n",
      "[1, 0, 0]\n",
      "[1. 0. 1.]\n",
      "2\n",
      "memory start\n",
      "[1 1 1]\n",
      "qubits final\n",
      "[1, 0, 1]\n",
      "[1, 0, 0]\n",
      "[0, 1, 2]\n"
     ]
    },
    {
     "data": {
      "image/png": "[encoded data removed]",
      "text/plain": [
       "<Figure size 715.14x204.68 with 1 Axes>"
      ]
     },
     "execution_count": 3,
     "metadata": {},
     "output_type": "execute_result"
    }
   ],
   "source": [
    "#test_row_col()\n",
    "nq=3\n",
    "a = 0.8\n",
    "b = 0.6\n",
    "Q = [[1,0,0,0,0,0,0,0],\n",
    "         [0,a,0,0,b,0,0,0],\n",
    "         [0,0,1,0,0,0,0,0],\n",
    "         [0,0,0,1,0,0,0,0],\n",
    "         [0,b,0,0,-a,0,0,0],\n",
    "         [0,0,0,0,0,1,0,0],\n",
    "         [0,0,0,0,0,0,1,0],\n",
    "         [0,0,0,0,0,0,0,1]]\n",
    "\n",
    "gate_sequence = [Q]\n",
    "circuit = _build_qr_circuit(gate_sequence, nq)\n",
    "circuit.draw('mpl')"
   ]
  },
  {
   "cell_type": "code",
   "execution_count": 5,
   "id": "15de5edc",
   "metadata": {},
   "outputs": [
    {
     "name": "stdout",
     "output_type": "stream",
     "text": [
      "7 0\n",
      "[1, 1, 1]\n",
      "[0, 0, 0]\n",
      "[1. 1. 1.]\n",
      "3\n",
      "memory start\n",
      "[1 1 1]\n",
      "memory start\n",
      "[1 1 1]\n",
      "qubits final\n",
      "[1, 1, 1]\n",
      "[1, 1, 0]\n",
      "[0, 1, 2]\n"
     ]
    },
    {
     "data": {
      "image/png": "[encoded data removed]",
      "text/plain": [
       "<Figure size 955.649x204.68 with 1 Axes>"
      ]
     },
     "execution_count": 5,
     "metadata": {},
     "output_type": "execute_result"
    }
   ],
   "source": [
    "#test_row_col()\n",
    "nq=3\n",
    "a = 0.8\n",
    "b = 0.6\n",
    "Q3 = [[a,0,0,0,0,0,0,b],\n",
    "         [0,1,0,0,0,0,0,0],\n",
    "         [0,0,1,0,0,0,0,0],\n",
    "         [0,0,0,1,0,0,0,0],\n",
    "         [0,0,0,0,1,0,0,0],\n",
    "         [0,0,0,0,0,1,0,0],\n",
    "         [0,0,0,0,0,0,1,0],\n",
    "         [b,0,0,0,0,0,0,-a]]\n",
    "\n",
    "gate_sequence = [Q3]\n",
    "circuit = _build_qr_circuit(gate_sequence, nq)\n",
    "circuit.draw('mpl')"
   ]
  },
  {
   "cell_type": "code",
   "execution_count": 7,
   "id": "4d9d118d",
   "metadata": {},
   "outputs": [
    {
     "name": "stdout",
     "output_type": "stream",
     "text": [
      "7 0\n",
      "[1, 1, 1]\n",
      "[0, 0, 0]\n",
      "[1. 1. 1.]\n",
      "3\n",
      "memory start\n",
      "[1 1 1]\n",
      "memory start\n",
      "[1 1 1]\n",
      "qubits final\n",
      "[1, 1, 1]\n",
      "[1, 1, 0]\n",
      "[0, 1, 2]\n",
      "5 1\n",
      "[1, 0, 1]\n",
      "[1, 0, 0]\n",
      "[0. 0. 1.]\n",
      "1\n",
      "qubits final\n",
      "[1, 0, 1]\n",
      "[1, 0, 0]\n",
      "[0, 1, 2]\n"
     ]
    },
    {
     "data": {
      "image/png": "[encoded data removed]",
      "text/plain": [
       "<Figure size 1209.87x204.68 with 1 Axes>"
      ]
     },
     "execution_count": 7,
     "metadata": {},
     "output_type": "execute_result"
    }
   ],
   "source": [
    "gate_sequence = [Q3, Q1]\n",
    "circuit = _build_qr_circuit(gate_sequence, nq)\n",
    "circuit.draw('mpl')"
   ]
  },
  {
   "cell_type": "code",
   "execution_count": null,
   "id": "9a56d7fa",
   "metadata": {},
   "outputs": [],
   "source": []
  }
 ],
 "metadata": {
  "kernelspec": {
   "display_name": "Python 3 (ipykernel)",
   "language": "python",
   "name": "python3"
  },
  "language_info": {
   "codemirror_mode": {
    "name": "ipython",
    "version": 3
   },
   "file_extension": ".py",
   "mimetype": "text/x-python",
   "name": "python",
   "nbconvert_exporter": "python",
   "pygments_lexer": "ipython3",
   "version": "3.9.12"
  }
 },
 "nbformat": 4,
 "nbformat_minor": 5
}
